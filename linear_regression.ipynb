{
  "cells": [
    {
      "cell_type": "markdown",
      "source": [
        "# prepare data for testing regression model"
      ],
      "metadata": {
        "id": "57b1-Bi1XLOM"
      }
    },
    {
      "cell_type": "code",
      "source": [
        "from sklearn.datasets import make_regression\n",
        "from matplotlib import pyplot\n",
        "X_test, y_test = make_regression(n_samples=150, n_features=1, noise=6)\n",
        "pyplot.scatter(X_test,y_test)\n",
        "pyplot.show()"
      ],
      "metadata": {
        "id": "o5x6h7s7P42r",
        "colab": {
          "base_uri": "https://localhost:8080/",
          "height": 266
        },
        "outputId": "79c78d74-d91b-4e3d-fa28-cd6a959973f9"
      },
      "execution_count": null,
      "outputs": [
        {
          "output_type": "display_data",
          "data": {
            "text/plain": [
              "<Figure size 432x288 with 1 Axes>"
            ],
            "image/png": "[encoded data removed]"
          },
          "metadata": {
            "needs_background": "light"
          }
        }
      ]
    },
    {
      "cell_type": "code",
      "source": [
        "import numpy as np\n",
        "import torch\n",
        "X_test = torch.from_numpy(X_test.astype(np.float32))\n",
        "X_test.shape"
      ],
      "metadata": {
        "colab": {
          "base_uri": "https://localhost:8080/"
        },
        "id": "K7M1OF55HMf7",
        "outputId": "966d5662-12c8-43ac-cacc-7006902255c0"
      },
      "execution_count": null,
      "outputs": [
        {
          "output_type": "execute_result",
          "data": {
            "text/plain": [
              "torch.Size([150, 1])"
            ]
          },
          "metadata": {},
          "execution_count": 4
        }
      ]
    },
    {
      "cell_type": "code",
      "source": [
        "y_test = torch.from_numpy(y_test.reshape(150,1).astype(np.float32))\n",
        "y_test.shape"
      ],
      "metadata": {
        "colab": {
          "base_uri": "https://localhost:8080/"
        },
        "id": "A55kSTCqHfBz",
        "outputId": "4d054e87-c643-4932-f036-b58cca703921"
      },
      "execution_count": null,
      "outputs": [
        {
          "output_type": "execute_result",
          "data": {
            "text/plain": [
              "torch.Size([150, 1])"
            ]
          },
          "metadata": {},
          "execution_count": 5
        }
      ]
    },
    {
      "cell_type": "markdown",
      "source": [
        "# make model using pytorch"
      ],
      "metadata": {
        "id": "1lK5LxMEYxqN"
      }
    },
    {
      "cell_type": "code",
      "source": [
        "import torch\n",
        "import torch.nn as nn\n",
        "\n",
        "# define linear regression  model\n",
        "n_input, n_out, batch_size, learning_rate = 1, 1, 100, 0.01\n",
        "model = nn.Sequential(nn.Linear(n_input, n_out ))\n",
        "\n",
        "# define loss function and optimzer on how to upgrade the gradient\n",
        "loss_function = nn.MSELoss()\n",
        "optimizer = torch.optim.SGD(model.parameters(), lr=learning_rate)\n",
        "\n",
        "# actual training is happening\n",
        "losses = []\n",
        "for epoch in range(2000):\n",
        "    pred_y = model(X_test[:,:])\n",
        "    loss = loss_function(y_test, pred_y)\n",
        "    losses.append(loss.item())\n",
        "\n",
        "    model.zero_grad()\n",
        "    loss.backward()\n",
        "    optimizer.step()"
      ],
      "metadata": {
        "id": "wyVLGOjdO8mI"
      },
      "execution_count": null,
      "outputs": []
    },
    {
      "cell_type": "code",
      "source": [],
      "metadata": {
        "id": "tnoWu03KDYgp"
      },
      "execution_count": null,
      "outputs": []
    },
    {
      "cell_type": "markdown",
      "source": [
        "# check the what we get after training"
      ],
      "metadata": {
        "id": "gxZOo8oqY-AY"
      }
    },
    {
      "cell_type": "code",
      "source": [
        "# weight and bias (w,b)\n",
        "for name, param in model.named_parameters():\n",
        "    print(name, param)"
      ],
      "metadata": {
        "id": "DI-fUi5_QIET",
        "colab": {
          "base_uri": "https://localhost:8080/"
        },
        "outputId": "299bdaca-0bcd-4b8c-c432-d1042339a338"
      },
      "execution_count": null,
      "outputs": [
        {
          "output_type": "stream",
          "name": "stdout",
          "text": [
            "0.weight Parameter containing:\n",
            "tensor([[64.2087]], requires_grad=True)\n",
            "0.bias Parameter containing:\n",
            "tensor([-0.5252], requires_grad=True)\n"
          ]
        }
      ]
    },
    {
      "cell_type": "code",
      "source": [],
      "metadata": {
        "id": "JCu2HsGPC-G2"
      },
      "execution_count": null,
      "outputs": []
    },
    {
      "cell_type": "code",
      "source": [
        "# visualize the loss during each epoch\n",
        "import matplotlib.pyplot as plt\n",
        "plt.plot(losses)\n",
        "plt.ylabel('loss')\n",
        "plt.xlabel('epoch')\n",
        "plt.title(\"Learning rate %f\"%(learning_rate))\n",
        "plt.show()"
      ],
      "metadata": {
        "id": "HFb2gGqzQg-C",
        "outputId": "8b904d5e-0df0-46ae-cf53-c8f747af485d",
        "colab": {
          "base_uri": "https://localhost:8080/",
          "height": 295
        }
      },
      "execution_count": null,
      "outputs": [
        {
          "output_type": "display_data",
          "data": {
            "text/plain": [
              "<Figure size 432x288 with 1 Axes>"
            ],
            "image/png": "[encoded data removed]"
          },
          "metadata": {
            "needs_background": "light"
          }
        }
      ]
    }
  ],
  "metadata": {
    "colab": {
      "provenance": []
    },
    "kernelspec": {
      "display_name": "Python 3",
      "name": "python3"
    }
  },
  "nbformat": 4,
  "nbformat_minor": 0
}