{
  "cells": [
    {
      "cell_type": "markdown",
      "source": [
        "# prepare data for testing regression model"
      ],
      "metadata": {
        "id": "57b1-Bi1XLOM"
      }
    },
    {
      "cell_type": "code",
      "source": [
        "# breast cancer data\n",
        "from sklearn.datasets import load_breast_cancer\n",
        "data = load_breast_cancer()\n",
        "\n",
        "X_test=data.data\n",
        "y_test= data.target\n"
      ],
      "metadata": {
        "id": "Bb7oPMHiWePU"
      },
      "execution_count": null,
      "outputs": []
    },
    {
      "cell_type": "code",
      "source": [
        "X_test.shape"
      ],
      "metadata": {
        "colab": {
          "base_uri": "https://localhost:8080/"
        },
        "id": "WQbv-NxlWmSL",
        "outputId": "75076978-4f4a-4f19-91b4-0376d7f672b0"
      },
      "execution_count": null,
      "outputs": [
        {
          "output_type": "execute_result",
          "data": {
            "text/plain": [
              "(569, 30)"
            ]
          },
          "metadata": {},
          "execution_count": 22
        }
      ]
    },
    {
      "cell_type": "code",
      "source": [],
      "metadata": {
        "id": "ti26hAZxWmhy"
      },
      "execution_count": null,
      "outputs": []
    },
    {
      "cell_type": "code",
      "source": [
        "from sklearn.datasets import make_classification\n",
        "from matplotlib import pyplot\n",
        "# \n",
        "X_test, y_test = make_classification(n_samples=150, n_features=5, n_informative=3, n_redundant=0, n_repeated=0, n_classes=2)\n",
        "y_test"
      ],
      "metadata": {
        "id": "o5x6h7s7P42r",
        "colab": {
          "base_uri": "https://localhost:8080/"
        },
        "outputId": "c8e40ae5-b437-435a-96b2-dfdcc4966533"
      },
      "execution_count": null,
      "outputs": [
        {
          "output_type": "execute_result",
          "data": {
            "text/plain": [
              "array([1, 0, 1, 1, 0, 1, 1, 0, 0, 1, 1, 1, 1, 0, 1, 0, 0, 0, 1, 1, 1, 0,\n",
              "       0, 0, 1, 1, 0, 0, 1, 0, 0, 1, 0, 0, 0, 1, 0, 0, 1, 1, 1, 0, 1, 0,\n",
              "       1, 0, 0, 1, 1, 0, 0, 0, 1, 1, 0, 1, 1, 1, 0, 0, 0, 1, 0, 1, 1, 1,\n",
              "       0, 1, 1, 0, 0, 0, 0, 0, 1, 1, 1, 1, 1, 0, 0, 0, 0, 0, 0, 0, 1, 0,\n",
              "       1, 0, 0, 1, 0, 1, 0, 0, 0, 0, 0, 0, 1, 1, 1, 0, 0, 1, 0, 1, 1, 0,\n",
              "       1, 0, 1, 0, 1, 0, 1, 1, 1, 0, 0, 0, 1, 1, 0, 1, 0, 1, 1, 0, 0, 1,\n",
              "       0, 1, 1, 1, 1, 1, 1, 0, 1, 1, 0, 1, 0, 0, 0, 1, 0, 1])"
            ]
          },
          "metadata": {},
          "execution_count": 1
        }
      ]
    },
    {
      "cell_type": "code",
      "source": [],
      "metadata": {
        "id": "9vBVW0wNrrop"
      },
      "execution_count": null,
      "outputs": []
    },
    {
      "cell_type": "code",
      "source": [
        "import numpy as np\n",
        "import torch\n",
        "X_test = torch.from_numpy(X_test.astype(np.float32))\n",
        "X_test.shape\n",
        "\n",
        "y_test = torch.from_numpy(y_test.reshape(569,1).astype(np.float32))\n",
        "y_test.shape"
      ],
      "metadata": {
        "colab": {
          "base_uri": "https://localhost:8080/"
        },
        "id": "K7M1OF55HMf7",
        "outputId": "a55b9a16-0da0-49db-d597-db575e5aefed"
      },
      "execution_count": null,
      "outputs": [
        {
          "output_type": "execute_result",
          "data": {
            "text/plain": [
              "torch.Size([569, 1])"
            ]
          },
          "metadata": {},
          "execution_count": 23
        }
      ]
    },
    {
      "cell_type": "code",
      "source": [
        "X_test.shape"
      ],
      "metadata": {
        "colab": {
          "base_uri": "https://localhost:8080/"
        },
        "id": "A55kSTCqHfBz",
        "outputId": "b2dadf82-f492-47de-d058-936db1acd919"
      },
      "execution_count": null,
      "outputs": [
        {
          "output_type": "execute_result",
          "data": {
            "text/plain": [
              "torch.Size([150, 5])"
            ]
          },
          "metadata": {},
          "execution_count": 88
        }
      ]
    },
    {
      "cell_type": "markdown",
      "source": [
        "# make model using pytorch"
      ],
      "metadata": {
        "id": "1lK5LxMEYxqN"
      }
    },
    {
      "cell_type": "code",
      "source": [
        "import torch\n",
        "import torch.nn as nn\n",
        "\n",
        "# define logistic regression  model\n",
        "n_input, n_out, batch_size, learning_rate = 30, 1, 100, 0.01\n",
        "\n",
        "model = nn.Sequential(\n",
        "                    nn.Linear(n_input, 30),\n",
        "                    nn.Sigmoid(),\n",
        "                    nn.Linear(30,1),\n",
        "                    nn.Sigmoid())\n",
        "\n",
        "\n",
        "# define loss function and optimzer on how to upgrade the gradient\n",
        "loss_function = nn.BCELoss()\n",
        "optimizer = torch.optim.SGD(model.parameters(), lr=learning_rate)\n",
        "\n",
        "# actual training is happening\n",
        "losses = []\n",
        "for epoch in range(15000):\n",
        "    y_pred = model(X_test[:,:])\n",
        "    loss = loss_function(y_pred, y_test)\n",
        "    losses.append(loss.item())\n",
        "\n",
        "    model.zero_grad()\n",
        "    loss.backward()\n",
        "    optimizer.step()"
      ],
      "metadata": {
        "id": "wyVLGOjdO8mI"
      },
      "execution_count": null,
      "outputs": []
    },
    {
      "cell_type": "code",
      "source": [
        "y_test.shape"
      ],
      "metadata": {
        "id": "tnoWu03KDYgp",
        "colab": {
          "base_uri": "https://localhost:8080/"
        },
        "outputId": "34f6b823-3ba2-42e9-a05f-89850d320cff"
      },
      "execution_count": null,
      "outputs": [
        {
          "output_type": "execute_result",
          "data": {
            "text/plain": [
              "torch.Size([569, 1])"
            ]
          },
          "metadata": {},
          "execution_count": 26
        }
      ]
    },
    {
      "cell_type": "code",
      "source": [],
      "metadata": {
        "id": "OWLIicYSuJSA"
      },
      "execution_count": null,
      "outputs": []
    },
    {
      "cell_type": "markdown",
      "source": [
        "# check what we get after training"
      ],
      "metadata": {
        "id": "gxZOo8oqY-AY"
      }
    },
    {
      "cell_type": "code",
      "source": [
        "# weight and bias (w,b)\n",
        "for name, param in model.named_parameters():\n",
        "    print(name, param)"
      ],
      "metadata": {
        "id": "DI-fUi5_QIET",
        "colab": {
          "base_uri": "https://localhost:8080/"
        },
        "outputId": "bea276cd-ed01-404e-cb08-7487e12b73af"
      },
      "execution_count": null,
      "outputs": [
        {
          "output_type": "stream",
          "name": "stdout",
          "text": [
            "0.weight Parameter containing:\n",
            "tensor([[-4.1612e-02, -1.9122e-02,  4.4152e-02,  7.0479e-02,  2.2417e-02,\n",
            "         -1.6561e-01,  1.5120e-01,  2.9400e-02, -1.1075e-01,  5.4925e-02,\n",
            "          3.8442e-02,  7.0030e-02,  1.2126e-01,  1.3367e-01, -1.7580e-01,\n",
            "         -1.6519e-02,  4.6906e-02, -1.2709e-01,  1.5099e-01, -8.4105e-03,\n",
            "         -1.3516e-01, -2.4868e-02, -3.7034e-02, -1.4642e-01,  5.8704e-02,\n",
            "         -6.1468e-02,  1.6973e-01,  8.5758e-02,  8.2577e-02, -6.3986e-02],\n",
            "        [-5.7281e-02,  2.1172e-02,  1.1051e-01,  5.8800e-02, -1.8071e-01,\n",
            "         -1.0173e-01,  1.1503e-01,  1.5468e-01, -1.1649e-01, -3.1738e-02,\n",
            "         -1.2062e-01,  1.2433e-02,  1.2609e-01, -2.2433e-02,  1.1227e-01,\n",
            "         -3.6519e-02,  8.3121e-02, -9.0449e-02, -8.7953e-02,  6.3030e-02,\n",
            "         -3.6851e-02,  8.9514e-02, -4.6134e-02,  3.5066e-02,  4.9943e-03,\n",
            "          1.2447e-01, -1.8029e-01, -1.3697e-01,  1.7214e-01,  1.6604e-01],\n",
            "        [-7.1516e-02,  1.6431e-01, -1.5627e-01,  1.5186e-01,  1.7218e-01,\n",
            "         -1.3970e-01, -6.5678e-02,  1.4456e-01, -9.4342e-02, -4.9322e-02,\n",
            "          8.2076e-02,  7.2287e-02,  1.4395e-01,  1.5601e-01,  1.6839e-01,\n",
            "          1.2486e-01,  9.9396e-02, -3.8694e-02, -3.6694e-02, -1.1727e-01,\n",
            "          1.6273e-01,  2.5180e-03, -3.3167e-02, -2.9136e-04,  8.2553e-02,\n",
            "          2.3494e-02,  8.7236e-02,  8.6123e-03, -5.8967e-02,  1.5441e-01],\n",
            "        [ 1.2932e-01,  1.1413e-01,  9.0229e-02,  7.4668e-02,  3.7918e-02,\n",
            "         -1.0795e-01, -1.1008e-01,  5.7823e-02, -1.6996e-01,  3.1905e-02,\n",
            "          1.1434e-01,  1.5076e-01,  1.2733e-01,  7.8446e-02, -6.7082e-02,\n",
            "         -1.3757e-01,  9.4373e-02,  5.4237e-02, -1.4946e-02,  1.6954e-01,\n",
            "          1.2216e-01,  4.2686e-02, -1.2949e-01,  7.1066e-02,  1.6316e-01,\n",
            "          5.3177e-02,  9.5881e-02,  8.1305e-02,  4.1973e-02, -7.6869e-02],\n",
            "        [-1.3865e-01,  1.1429e-01,  1.8013e-01, -2.0295e-02, -1.7847e-01,\n",
            "          9.4490e-02, -1.4733e-01,  5.4494e-02,  1.4271e-02,  1.4909e-02,\n",
            "          1.7521e-01,  9.6651e-03,  3.2003e-02, -2.7764e-02,  2.2564e-02,\n",
            "         -1.2466e-01,  1.0471e-01,  6.1478e-02, -1.7575e-01, -1.6029e-01,\n",
            "          1.8282e-06,  9.5571e-02, -1.5276e-01,  1.1474e-01, -1.4229e-01,\n",
            "          1.6815e-01, -5.3848e-02, -1.4304e-02, -4.0044e-03,  1.4198e-01],\n",
            "        [-1.2528e-01,  1.2114e-01,  5.0408e-02,  2.1304e-02, -1.3841e-01,\n",
            "         -1.3080e-01,  9.8959e-03, -1.2403e-01,  9.6509e-02,  1.4475e-01,\n",
            "         -1.7908e-01, -1.6068e-02, -7.1069e-02,  7.7424e-02, -1.3960e-01,\n",
            "         -4.5315e-02, -1.5805e-01, -4.1161e-02,  1.7405e-01, -8.5571e-02,\n",
            "         -1.4266e-01,  3.4692e-02,  1.7860e-01,  7.6738e-02, -1.7848e-01,\n",
            "         -6.7398e-02, -4.1962e-02, -1.6352e-01, -5.2577e-02, -7.0961e-02],\n",
            "        [-1.0695e-01, -1.2724e-01, -1.0918e-02, -1.2635e-01,  9.6992e-02,\n",
            "          3.5423e-02, -1.1522e-02,  7.6599e-02,  4.6577e-02, -1.3827e-01,\n",
            "         -3.0398e-02, -1.4457e-01,  8.6299e-02,  2.7533e-03, -3.0765e-02,\n",
            "         -3.4288e-02, -1.7279e-01, -4.0311e-02,  1.5262e-01, -5.0104e-02,\n",
            "          1.3876e-01, -7.2613e-02, -3.3522e-02,  2.3743e-02, -1.5177e-01,\n",
            "         -1.5839e-01, -2.5623e-02, -4.8853e-02,  3.3931e-02, -1.4127e-01],\n",
            "        [ 2.8388e-03,  1.2669e-01, -6.5694e-02,  1.7912e-01,  1.6129e-02,\n",
            "          1.6722e-03, -9.9423e-02,  1.7644e-01, -4.0225e-02,  9.0611e-02,\n",
            "          1.2915e-01,  1.5271e-01, -2.3680e-02,  4.7481e-03,  1.7385e-01,\n",
            "         -9.5214e-02,  1.4764e-01, -1.2936e-01, -1.7253e-02,  5.7679e-02,\n",
            "          7.5362e-02,  1.5198e-01, -1.6299e-01, -3.6243e-02, -6.9223e-02,\n",
            "          1.5087e-01,  7.7649e-02, -9.2557e-02, -9.4141e-02, -1.4528e-01],\n",
            "        [ 1.7740e-01,  7.6605e-02,  7.3152e-02,  1.4774e-01, -1.4217e-01,\n",
            "         -8.2749e-02, -1.1347e-01, -8.7624e-02, -1.7498e-01,  5.3644e-03,\n",
            "          6.2405e-02, -1.3678e-01, -1.4403e-01,  8.4681e-02,  1.8025e-01,\n",
            "          9.4252e-02,  1.5965e-01, -6.2014e-02,  1.2432e-01,  1.4406e-01,\n",
            "         -1.5116e-03, -4.7484e-02,  1.7107e-01,  7.1884e-02, -1.1214e-01,\n",
            "          9.2375e-02,  1.3311e-01, -1.3805e-01,  9.0580e-02,  4.8170e-02],\n",
            "        [ 1.7408e-01,  2.0171e-02,  6.0741e-02, -1.9291e-02, -1.7795e-01,\n",
            "          6.5637e-02,  1.2136e-01,  1.7384e-01, -1.2729e-01, -1.7573e-01,\n",
            "          7.3255e-02,  1.7314e-02, -4.5803e-02,  9.0330e-02,  1.3087e-01,\n",
            "         -1.2936e-01,  5.9248e-02,  7.4802e-02, -2.7704e-02,  8.7703e-02,\n",
            "          3.9212e-02,  8.7773e-02, -8.6915e-02, -1.2929e-01,  1.6167e-01,\n",
            "         -1.2526e-01,  1.2846e-01, -1.5901e-01,  8.5381e-02, -9.5935e-02],\n",
            "        [ 1.0939e-02, -6.3965e-02,  3.4170e-02,  1.2544e-01, -7.0074e-02,\n",
            "          1.6992e-01,  2.8186e-02,  1.4519e-01,  3.2247e-02,  9.8392e-02,\n",
            "          6.2871e-02,  1.3930e-01,  9.0705e-03,  6.8467e-02,  6.6106e-02,\n",
            "         -2.1727e-02, -5.1299e-02,  1.4817e-01, -4.0381e-02,  4.9563e-02,\n",
            "         -8.3888e-02,  1.0059e-01, -9.0169e-02,  6.2076e-03, -7.7970e-02,\n",
            "         -1.5588e-02, -1.3912e-01,  1.2486e-01,  3.8042e-02, -1.5525e-01],\n",
            "        [-1.5133e-01,  1.0931e-02,  2.2924e-02, -1.4575e-01, -1.2024e-01,\n",
            "          2.4389e-02, -6.8023e-02, -5.8710e-02, -9.2759e-03,  6.9061e-02,\n",
            "         -1.5928e-01, -7.8010e-03,  9.8493e-02, -4.9660e-02, -1.7324e-02,\n",
            "          1.5112e-01, -3.5993e-02,  1.4714e-01, -9.9532e-02,  1.7526e-01,\n",
            "          2.4087e-02, -1.7734e-01, -6.1784e-02,  5.1277e-02,  1.0489e-01,\n",
            "          1.3617e-03,  2.1425e-02,  1.4843e-01, -3.3892e-03, -8.8846e-02],\n",
            "        [ 5.0268e-02, -8.8422e-03, -3.5267e-01, -3.5836e-01, -4.9582e-02,\n",
            "         -7.2708e-02, -9.9834e-02,  1.2725e-01, -5.9897e-03,  1.2359e-02,\n",
            "          5.8105e-02,  2.5483e-02, -9.4305e-02,  1.5338e-01, -1.3327e-01,\n",
            "          1.5092e-02,  1.5194e-01, -5.1893e-02, -9.1398e-02, -5.7449e-02,\n",
            "         -1.3049e-01,  1.3347e-01, -2.4372e-01,  2.9500e-01, -1.6446e-01,\n",
            "         -1.6582e-01,  9.1167e-02, -9.5713e-02,  1.3479e-01,  2.4732e-02],\n",
            "        [ 2.2735e-02, -6.6673e-02, -1.7073e-01, -1.5350e-01, -1.6390e-01,\n",
            "          5.5473e-03, -5.4956e-02,  2.7968e-02, -1.6846e-01, -8.1047e-02,\n",
            "          1.0310e-01,  1.5002e-03, -7.8647e-02, -1.7997e-01,  7.3405e-02,\n",
            "          1.4873e-01, -2.7132e-02,  7.1165e-02, -1.8144e-01, -1.3634e-02,\n",
            "         -3.1699e-03,  1.6748e-01, -6.1835e-02, -2.1480e-02,  5.5262e-04,\n",
            "          6.6361e-03,  1.2479e-01, -1.5129e-01,  6.9346e-02, -1.2156e-01],\n",
            "        [ 4.2335e-02, -4.1594e-02, -1.4775e-01, -1.5548e-01, -9.5511e-02,\n",
            "         -1.3001e-01,  3.7130e-02, -1.3767e-02, -2.5530e-03, -1.0186e-01,\n",
            "          1.2753e-01,  1.1833e-01, -1.2787e-01, -1.6407e-01,  9.9908e-02,\n",
            "          9.5843e-02, -5.5949e-02, -1.2234e-01,  9.4238e-02, -4.5748e-02,\n",
            "          9.2809e-02, -1.3185e-01,  1.8238e-02,  4.2847e-02,  2.7097e-02,\n",
            "         -8.9844e-02, -4.3751e-02,  5.9236e-02, -1.3322e-01,  4.5566e-02],\n",
            "        [-8.1179e-03,  1.2653e-02, -1.5652e-02, -3.2559e-02, -1.3944e-01,\n",
            "          7.1684e-03,  2.6854e-02,  1.7677e-01, -3.2175e-02,  2.3643e-02,\n",
            "          1.7092e-01,  8.8719e-02,  6.1860e-02, -4.5013e-02, -1.1282e-01,\n",
            "          1.1482e-01,  7.7042e-02, -4.0091e-02,  5.0504e-02, -1.9191e-02,\n",
            "         -1.0114e-01,  7.7857e-02,  1.7051e-01,  8.5307e-02, -5.0768e-02,\n",
            "         -7.7536e-02,  1.1851e-01, -1.0006e-01, -6.1674e-02,  1.4124e-01],\n",
            "        [ 1.8179e-01, -1.1702e-01, -2.9222e-02,  7.3444e-02,  5.5312e-02,\n",
            "         -4.1600e-02,  7.9118e-03, -6.1689e-02, -5.1089e-02,  1.1642e-01,\n",
            "         -3.0354e-02,  1.5968e-01, -5.9277e-02,  9.2848e-02, -1.0568e-01,\n",
            "         -2.4877e-02,  7.2499e-02, -8.7614e-02,  1.3685e-01,  1.3853e-01,\n",
            "         -1.1408e-01,  8.6917e-02,  1.3766e-01, -3.8918e-02,  1.6557e-01,\n",
            "         -1.7620e-01, -1.9526e-02, -1.5559e-01,  2.7194e-02,  3.9798e-03],\n",
            "        [ 1.0970e-01, -1.2335e-01,  1.4583e-01,  9.3518e-02,  1.7656e-01,\n",
            "         -1.1193e-01, -1.4546e-02,  2.3708e-02, -8.8320e-02, -9.2559e-03,\n",
            "         -4.1011e-02, -1.4938e-01,  1.0809e-01, -6.5464e-02, -1.4060e-02,\n",
            "          1.7662e-01, -1.1867e-01, -7.1784e-02, -1.4447e-01, -5.7438e-02,\n",
            "         -1.0638e-01, -4.8971e-02, -4.6060e-02, -1.2294e-01,  1.1544e-01,\n",
            "          1.2622e-01, -1.1554e-02, -1.3980e-01,  1.1365e-01, -5.8339e-02],\n",
            "        [ 6.3087e-02,  5.5888e-02, -3.9756e-02, -7.2348e-03, -7.2781e-02,\n",
            "         -1.1405e-01,  4.2149e-02,  3.9067e-02, -1.5619e-01, -1.6954e-01,\n",
            "          3.9913e-02,  1.7070e-01,  8.5112e-02,  1.4909e-01, -4.3909e-03,\n",
            "         -4.6285e-02, -1.6082e-01, -1.3515e-01, -1.4731e-01, -1.1052e-01,\n",
            "         -1.7707e-01,  2.3758e-02,  1.0271e-01,  1.4524e-01,  1.0209e-01,\n",
            "          1.1760e-01, -5.9997e-02,  2.4544e-02, -1.5966e-01, -7.8010e-02],\n",
            "        [-1.3288e-01, -9.5048e-02, -6.3369e-02,  2.1001e-02,  3.0567e-02,\n",
            "         -1.7305e-01, -4.0048e-02,  1.5877e-01, -1.5256e-01,  9.7038e-02,\n",
            "         -3.2212e-02,  1.0307e-01, -9.1249e-02, -1.2248e-01, -5.4590e-02,\n",
            "          1.8059e-01,  1.3154e-01,  9.2813e-02,  1.5730e-01,  1.4622e-02,\n",
            "          5.7392e-02,  1.3531e-01, -2.3221e-02,  1.5408e-01,  1.0794e-01,\n",
            "          1.3250e-01, -1.7151e-01,  6.0196e-02, -4.4955e-02, -2.3569e-02],\n",
            "        [ 8.3144e-02,  1.7468e-02, -1.6005e-01,  1.6320e-01,  4.3176e-03,\n",
            "         -1.5272e-01, -1.8678e-02, -8.6784e-02, -1.2395e-01, -2.2263e-02,\n",
            "         -1.0600e-01, -1.0017e-01,  1.1176e-01,  1.2659e-03,  8.5106e-02,\n",
            "         -9.7866e-02, -1.0961e-01,  1.6189e-01, -1.2432e-01, -9.3115e-02,\n",
            "          1.0020e-02,  2.9191e-02, -6.9315e-02, -1.0182e-03, -1.6418e-01,\n",
            "         -1.5964e-01, -7.2566e-02,  1.2122e-01, -1.2534e-01,  2.4584e-02],\n",
            "        [ 2.6437e-01,  2.2861e-01,  1.7978e+00,  4.2031e-01,  1.7418e-01,\n",
            "         -5.1166e-03, -1.0766e-01,  7.0828e-02,  1.6949e-01, -4.2916e-02,\n",
            "          1.0672e-02,  1.0896e-01, -1.1764e-03, -5.8386e-01,  4.9964e-02,\n",
            "         -1.6559e-01, -9.7697e-02, -1.8708e-02, -3.8567e-02, -2.0810e-03,\n",
            "          2.1978e-01, -2.7789e-01,  1.5289e+00, -7.0500e-01,  1.3486e-01,\n",
            "         -1.6303e-01, -2.3839e-02,  1.4709e-01,  3.4212e-02,  1.5152e-01],\n",
            "        [ 7.8455e-02, -3.7756e-03,  5.2017e-02, -9.3032e-02,  1.1912e-01,\n",
            "         -1.8169e-01,  4.1193e-02, -1.7693e-01, -4.4178e-02, -9.3131e-02,\n",
            "          1.2715e-01, -1.1310e-02,  6.2305e-02,  9.3113e-02,  3.7185e-02,\n",
            "         -1.1254e-01,  2.8880e-02, -9.2756e-03, -5.1904e-02, -1.3095e-01,\n",
            "         -1.5048e-02, -1.3168e-01, -1.0042e-01,  1.3354e-01, -9.7751e-02,\n",
            "          1.6565e-01, -8.8627e-02, -5.8641e-02,  8.3465e-02,  1.6193e-01],\n",
            "        [ 1.8102e-02, -1.6387e-01, -1.6091e-01, -7.0200e-02, -1.7939e-01,\n",
            "          1.0527e-01,  1.4088e-01,  6.6974e-02, -5.2295e-02, -1.1295e-01,\n",
            "          1.0613e-01,  8.4918e-02,  1.3623e-01,  5.0883e-02,  1.6316e-01,\n",
            "         -9.1552e-03,  1.3283e-02,  1.8208e-01,  5.1726e-03,  7.9576e-02,\n",
            "          1.0601e-01, -3.2470e-02,  4.1223e-02, -4.3842e-02, -4.9847e-02,\n",
            "          1.3280e-01,  2.4265e-02, -1.2595e-01, -1.1742e-01, -3.3553e-02],\n",
            "        [-9.7748e-02, -1.3013e-01, -1.0912e-01, -1.6746e-01,  8.3464e-03,\n",
            "         -6.1524e-02, -4.9328e-02,  4.2226e-02,  1.2993e-01, -8.7468e-03,\n",
            "         -1.7960e-01,  1.1618e-01, -9.2361e-03,  6.7230e-02, -1.7505e-01,\n",
            "          8.5605e-02, -4.0800e-02,  7.0132e-02, -6.3968e-03, -1.4964e-01,\n",
            "          4.1940e-02,  8.4586e-02,  1.0493e-01, -1.3296e-01, -1.1651e-01,\n",
            "          1.5136e-01,  1.1378e-01, -4.1509e-02, -7.3062e-02, -7.4083e-02],\n",
            "        [-9.5043e-02,  1.0303e-01,  1.3575e-01,  4.4371e-02,  1.1597e-01,\n",
            "         -3.7219e-02,  1.6848e-01, -6.6983e-02,  4.8461e-03, -1.3281e-01,\n",
            "         -4.9022e-02, -1.0750e-01, -1.3368e-02, -9.8951e-02, -7.3785e-02,\n",
            "         -8.1491e-02, -1.1834e-01, -6.1163e-02,  3.6663e-02, -1.7615e-01,\n",
            "          9.9091e-02, -7.7081e-02, -1.3161e-01, -1.6787e-01,  1.4931e-01,\n",
            "          3.4313e-02,  1.5343e-01, -1.3035e-02, -4.0455e-02, -1.2848e-01],\n",
            "        [-9.7523e-02,  1.5830e-01,  1.6082e-01,  1.4621e-01, -9.1300e-02,\n",
            "          8.4302e-02, -1.6488e-01,  1.2505e-01, -9.9176e-02, -1.7976e-01,\n",
            "          1.3081e-02,  1.7826e-01,  1.6281e-01, -8.3448e-02,  3.2957e-02,\n",
            "         -7.8463e-02,  2.6018e-02,  1.7107e-01, -1.4571e-02, -4.4688e-02,\n",
            "         -8.6372e-02, -1.0459e-01,  8.5666e-02,  1.7326e-01, -6.8735e-03,\n",
            "          1.0333e-01,  5.1798e-02, -1.1229e-02, -1.3238e-01, -1.6935e-03],\n",
            "        [ 2.6250e-02,  1.7049e-01,  1.6331e-02,  6.5570e-02,  1.2480e-01,\n",
            "         -1.7022e-01,  1.7502e-01, -4.4534e-02, -1.6014e-01,  1.4277e-01,\n",
            "         -2.3832e-02, -8.3386e-02, -6.3287e-02,  2.9623e-02, -1.0360e-01,\n",
            "          2.0411e-02, -1.7919e-01,  8.7842e-02,  7.9423e-02,  1.2762e-01,\n",
            "          1.6918e-01,  2.9672e-02,  1.2259e-01,  6.8962e-02,  1.7877e-01,\n",
            "          1.7096e-01, -3.5137e-02,  1.2270e-01,  7.4790e-02, -1.5585e-02],\n",
            "        [ 2.7336e-02, -1.4243e-01,  1.0557e-01, -6.2392e-02, -1.3988e-01,\n",
            "          1.0294e-01, -7.7163e-02, -1.1714e-01,  9.3182e-02,  9.9805e-02,\n",
            "         -5.4511e-02,  4.6491e-02, -1.2643e-01, -3.1785e-02, -5.3825e-02,\n",
            "          1.1228e-01,  1.2827e-01,  3.6421e-02,  2.7388e-02, -1.4287e-01,\n",
            "          8.9526e-02,  1.2301e-01,  1.5346e-01,  1.2129e-01, -7.5642e-02,\n",
            "         -7.9262e-02, -1.8067e-01,  2.4440e-02,  1.7411e-01, -9.1425e-02],\n",
            "        [-1.5028e-01, -1.1804e-01,  2.1493e-03,  4.1722e-02, -1.1262e-01,\n",
            "         -4.5875e-03,  1.8029e-01, -6.6966e-02, -1.1737e-02,  6.2624e-02,\n",
            "         -2.0245e-02, -1.0252e-01,  5.5969e-03,  4.9283e-02, -1.3488e-02,\n",
            "          1.6361e-01, -1.4044e-01, -1.0931e-01, -1.0409e-01,  8.7918e-02,\n",
            "          1.1276e-01, -4.0285e-02,  2.4980e-02,  1.1732e-01,  4.9093e-02,\n",
            "         -1.5021e-01,  1.2839e-01,  1.6816e-01,  2.0136e-02,  1.3098e-01]],\n",
            "       requires_grad=True)\n",
            "0.bias Parameter containing:\n",
            "tensor([ 0.0127,  0.0943,  0.1659, -0.0739,  0.0075,  0.1635, -0.0484, -0.0507,\n",
            "        -0.1472,  0.1044, -0.0721,  0.1133,  0.1103, -0.0932, -0.1003,  0.1805,\n",
            "        -0.1353,  0.0268, -0.0904, -0.0857, -0.0840,  0.2072, -0.1543, -0.1362,\n",
            "         0.1088, -0.0770, -0.0854,  0.1794,  0.0503,  0.0540],\n",
            "       requires_grad=True)\n",
            "2.weight Parameter containing:\n",
            "tensor([[-0.1464, -0.2257, -0.1803, -0.1683, -0.2436, -0.0108, -0.0638,  0.0456,\n",
            "         -0.0050, -0.0406, -0.2385, -0.0909, -1.0408, -0.1472, -0.1696, -0.1251,\n",
            "         -0.2326, -0.0928, -0.0253, -0.0206, -0.1942,  4.3605,  0.0261, -0.0381,\n",
            "         -0.1748, -0.0818, -0.0656, -0.1643, -0.1499,  0.0198]],\n",
            "       requires_grad=True)\n",
            "2.bias Parameter containing:\n",
            "tensor([-0.0533], requires_grad=True)\n"
          ]
        }
      ]
    },
    {
      "cell_type": "code",
      "source": [],
      "metadata": {
        "id": "JCu2HsGPC-G2"
      },
      "execution_count": null,
      "outputs": []
    },
    {
      "cell_type": "code",
      "source": [
        "# visualize the loss during each epoch\n",
        "import matplotlib.pyplot as plt\n",
        "plt.plot(losses)\n",
        "plt.ylabel('loss')\n",
        "plt.xlabel('epoch')\n",
        "plt.title(\"Learning rate %f\"%(learning_rate))\n",
        "plt.show()"
      ],
      "metadata": {
        "id": "HFb2gGqzQg-C",
        "outputId": "85e916e0-1c20-41a6-b179-f546b38f36ee",
        "colab": {
          "base_uri": "https://localhost:8080/",
          "height": 295
        }
      },
      "execution_count": null,
      "outputs": [
        {
          "output_type": "display_data",
          "data": {
            "text/plain": [
              "<Figure size 432x288 with 1 Axes>"
            ],
            "image/png": "[encoded data removed]"
          },
          "metadata": {
            "needs_background": "light"
          }
        }
      ]
    },
    {
      "cell_type": "code",
      "source": [],
      "metadata": {
        "id": "T7yAw9U_w6jQ"
      },
      "execution_count": null,
      "outputs": []
    },
    {
      "cell_type": "markdown",
      "source": [
        "# validate model"
      ],
      "metadata": {
        "id": "QaOP2nqQw7ZR"
      }
    },
    {
      "cell_type": "code",
      "source": [
        "X_val, y_val = X_test[100:,:], y_test[100:, :]\n"
      ],
      "metadata": {
        "id": "_rN48kZLw8_z"
      },
      "execution_count": null,
      "outputs": []
    },
    {
      "cell_type": "code",
      "source": [
        "y_pred =model(X_val)"
      ],
      "metadata": {
        "id": "XVnS2j8qxfZW"
      },
      "execution_count": null,
      "outputs": []
    },
    {
      "cell_type": "code",
      "source": [
        "y_pred =y_pred.detach().numpy().reshape(469)"
      ],
      "metadata": {
        "id": "iHI5imk3x39U"
      },
      "execution_count": null,
      "outputs": []
    },
    {
      "cell_type": "code",
      "source": [
        "y_pred =[0 if i<0.5 else 1 for i in y_pred]"
      ],
      "metadata": {
        "id": "Tum56R7exfc-"
      },
      "execution_count": null,
      "outputs": []
    },
    {
      "cell_type": "code",
      "source": [
        "from sklearn.metrics import accuracy_score\n",
        "\n",
        "accuracy_score(y_val, y_pred)"
      ],
      "metadata": {
        "colab": {
          "base_uri": "https://localhost:8080/"
        },
        "id": "xN2wB30unO_-",
        "outputId": "4ee485ec-e464-4f1c-d1e0-151a76de84f8"
      },
      "execution_count": null,
      "outputs": [
        {
          "output_type": "execute_result",
          "data": {
            "text/plain": [
              "0.9360341151385928"
            ]
          },
          "metadata": {},
          "execution_count": 34
        }
      ]
    },
    {
      "cell_type": "code",
      "source": [],
      "metadata": {
        "id": "eR1ph1XTnPCb"
      },
      "execution_count": null,
      "outputs": []
    },
    {
      "cell_type": "code",
      "source": [],
      "metadata": {
        "id": "YjC8KGXrnPE6"
      },
      "execution_count": null,
      "outputs": []
    }
  ],
  "metadata": {
    "colab": {
      "provenance": []
    },
    "kernelspec": {
      "display_name": "Python 3",
      "name": "python3"
    }
  },
  "nbformat": 4,
  "nbformat_minor": 0
}