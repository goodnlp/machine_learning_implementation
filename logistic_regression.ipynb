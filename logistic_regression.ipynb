{
  "cells": [
    {
      "cell_type": "markdown",
      "source": [
        "# prepare data for testing regression model"
      ],
      "metadata": {
        "id": "57b1-Bi1XLOM"
      }
    },
    {
      "cell_type": "code",
      "source": [
        "# breast cancer datset\n",
        "from sklearn.datasets import load_breast_cancer\n",
        "data = load_breast_cancer()\n",
        "data.target[[10, 50, 85]]"
      ],
      "metadata": {
        "colab": {
          "base_uri": "https://localhost:8080/"
        },
        "id": "JfUM8J11kR1h",
        "outputId": "52b39617-263a-4bbf-88b3-ed7e1057fa7e"
      },
      "execution_count": null,
      "outputs": [
        {
          "output_type": "execute_result",
          "data": {
            "text/plain": [
              "array([0, 1, 0])"
            ]
          },
          "metadata": {},
          "execution_count": 1
        }
      ]
    },
    {
      "cell_type": "code",
      "source": [
        "data.feature_names"
      ],
      "metadata": {
        "colab": {
          "base_uri": "https://localhost:8080/"
        },
        "id": "qFV0OnwzXffq",
        "outputId": "50523cdd-9c6c-4cce-c29b-425906370643"
      },
      "execution_count": null,
      "outputs": [
        {
          "output_type": "execute_result",
          "data": {
            "text/plain": [
              "array(['mean radius', 'mean texture', 'mean perimeter', 'mean area',\n",
              "       'mean smoothness', 'mean compactness', 'mean concavity',\n",
              "       'mean concave points', 'mean symmetry', 'mean fractal dimension',\n",
              "       'radius error', 'texture error', 'perimeter error', 'area error',\n",
              "       'smoothness error', 'compactness error', 'concavity error',\n",
              "       'concave points error', 'symmetry error',\n",
              "       'fractal dimension error', 'worst radius', 'worst texture',\n",
              "       'worst perimeter', 'worst area', 'worst smoothness',\n",
              "       'worst compactness', 'worst concavity', 'worst concave points',\n",
              "       'worst symmetry', 'worst fractal dimension'], dtype='<U23')"
            ]
          },
          "metadata": {},
          "execution_count": 4
        }
      ]
    },
    {
      "cell_type": "code",
      "source": [
        "X_test=data.data\n",
        "y_test= data.target"
      ],
      "metadata": {
        "id": "YMi5flp-kVw_"
      },
      "execution_count": null,
      "outputs": []
    },
    {
      "cell_type": "code",
      "source": [],
      "metadata": {
        "id": "Gyk0px5DkVzb"
      },
      "execution_count": null,
      "outputs": []
    },
    {
      "cell_type": "code",
      "source": [
        "# make data for classification\n",
        "from sklearn.datasets import make_classification\n",
        "from matplotlib import pyplot\n",
        "# \n",
        "X_test, y_test = make_classification(n_samples=1500, n_features=5, n_informative=3, n_redundant=0, n_repeated=0, n_classes=2)\n",
        "y_test"
      ],
      "metadata": {
        "id": "o5x6h7s7P42r",
        "colab": {
          "base_uri": "https://localhost:8080/"
        },
        "outputId": "6e7207cb-a77d-493d-8c1f-91fca6de5814"
      },
      "execution_count": null,
      "outputs": [
        {
          "output_type": "execute_result",
          "data": {
            "text/plain": [
              "array([1, 1, 1, ..., 0, 0, 0])"
            ]
          },
          "metadata": {},
          "execution_count": 2
        }
      ]
    },
    {
      "cell_type": "code",
      "source": [],
      "metadata": {
        "id": "9vBVW0wNrrop"
      },
      "execution_count": null,
      "outputs": []
    },
    {
      "cell_type": "code",
      "source": [
        "import numpy as np\n",
        "import torch\n",
        "X_test = torch.from_numpy(X_test.astype(np.float32))\n",
        "X_test.shape\n",
        "\n",
        "y_test = torch.from_numpy(y_test.reshape(-1,1).astype(np.float32))\n",
        "y_test.shape"
      ],
      "metadata": {
        "colab": {
          "base_uri": "https://localhost:8080/"
        },
        "id": "K7M1OF55HMf7",
        "outputId": "f33de2f0-56f3-425a-9ebf-42cc3720334d"
      },
      "execution_count": null,
      "outputs": [
        {
          "output_type": "execute_result",
          "data": {
            "text/plain": [
              "torch.Size([569, 1])"
            ]
          },
          "metadata": {},
          "execution_count": 18
        }
      ]
    },
    {
      "cell_type": "code",
      "source": [
        "X_test.shape"
      ],
      "metadata": {
        "colab": {
          "base_uri": "https://localhost:8080/"
        },
        "id": "A55kSTCqHfBz",
        "outputId": "698751f2-a8ee-4719-8321-4abc7f268d4c"
      },
      "execution_count": null,
      "outputs": [
        {
          "output_type": "execute_result",
          "data": {
            "text/plain": [
              "torch.Size([569, 30])"
            ]
          },
          "metadata": {},
          "execution_count": 19
        }
      ]
    },
    {
      "cell_type": "markdown",
      "source": [
        "# make model using pytorch"
      ],
      "metadata": {
        "id": "1lK5LxMEYxqN"
      }
    },
    {
      "cell_type": "code",
      "source": [
        "import torch\n",
        "import torch.nn as nn\n",
        "\n",
        "# define logistic regression  model\n",
        "n_input, n_out, batch_size, learning_rate = 30, 1, 100, 0.01\n",
        "\n",
        "class LogisticRegression(object):\n",
        "    def __init__(self, use_framework='pytorch'):\n",
        "        self.lr= 0.01\n",
        "        self.use_framework= use_framework\n",
        "        self.model=None\n",
        "    def fit(self):\n",
        "      #training process\n",
        "\n",
        "\n",
        "    def predict(self):\n",
        "      #pred\n",
        "      pred = self.model()\n",
        "\n",
        "\n",
        "model = nn.Sequential(\n",
        "                    nn.Linear(n_input, n_out),\n",
        "                    nn.Sigmoid())\n",
        "\n",
        "# define loss function and optimzer on how to upgrade the gradient\n",
        "loss_function = nn.BCELoss()\n",
        "optimizer = torch.optim.SGD(model.parameters(), lr=learning_rate)\n",
        "\n",
        "# actual training is happening\n",
        "losses = []\n",
        "for epoch in range(1500):\n",
        "    bs=10\n",
        "    n=569//bs\n",
        "    for i in range(n):\n",
        "        y_pred = model(X_test)\n",
        "        loss = loss_function(y_pred, y_test)\n",
        "        model.zero_grad()\n",
        "        loss.backward()\n",
        "        optimizer.step()\n",
        "    losses.append(loss.item())"
      ],
      "metadata": {
        "id": "wyVLGOjdO8mI"
      },
      "execution_count": null,
      "outputs": []
    },
    {
      "cell_type": "code",
      "source": [
        "y_test.reshape(150)"
      ],
      "metadata": {
        "id": "tnoWu03KDYgp",
        "colab": {
          "base_uri": "https://localhost:8080/"
        },
        "outputId": "24bc7333-0ea0-4ed6-8a14-0fc447243432"
      },
      "execution_count": null,
      "outputs": [
        {
          "output_type": "execute_result",
          "data": {
            "text/plain": [
              "tensor([0., 0., 1., 0., 0., 1., 1., 0., 0., 1., 1., 0., 1., 0., 0., 0., 1., 1.,\n",
              "        1., 0., 1., 1., 0., 0., 1., 1., 1., 0., 1., 0., 1., 1., 0., 1., 1., 1.,\n",
              "        1., 1., 1., 0., 1., 1., 1., 0., 0., 0., 1., 0., 1., 0., 1., 0., 1., 0.,\n",
              "        0., 0., 1., 1., 0., 0., 0., 1., 0., 1., 0., 1., 0., 1., 0., 1., 0., 1.,\n",
              "        0., 1., 0., 0., 1., 0., 0., 0., 1., 0., 0., 0., 1., 1., 1., 1., 1., 0.,\n",
              "        0., 1., 1., 1., 1., 0., 1., 0., 0., 0., 1., 0., 0., 1., 0., 0., 1., 0.,\n",
              "        1., 0., 0., 0., 1., 0., 1., 0., 1., 0., 1., 0., 0., 1., 0., 0., 0., 1.,\n",
              "        0., 1., 1., 1., 0., 1., 0., 0., 1., 0., 1., 0., 1., 1., 0., 1., 0., 0.,\n",
              "        1., 1., 0., 1., 1., 1.])"
            ]
          },
          "metadata": {},
          "execution_count": 18
        }
      ]
    },
    {
      "cell_type": "code",
      "source": [
        "y_pred.shape"
      ],
      "metadata": {
        "id": "OWLIicYSuJSA",
        "colab": {
          "base_uri": "https://localhost:8080/"
        },
        "outputId": "38e3a2a9-d492-4566-dc24-5871ade3dc97"
      },
      "execution_count": null,
      "outputs": [
        {
          "output_type": "execute_result",
          "data": {
            "text/plain": [
              "torch.Size([10, 1])"
            ]
          },
          "metadata": {},
          "execution_count": 19
        }
      ]
    },
    {
      "cell_type": "markdown",
      "source": [
        "# check what we get after training"
      ],
      "metadata": {
        "id": "gxZOo8oqY-AY"
      }
    },
    {
      "cell_type": "code",
      "source": [
        "# weight and bias (w,b)\n",
        "for name, param in model.named_parameters():\n",
        "    print(name, param)"
      ],
      "metadata": {
        "id": "DI-fUi5_QIET",
        "colab": {
          "base_uri": "https://localhost:8080/"
        },
        "outputId": "c50afb27-0877-4174-876f-dd689f804a12"
      },
      "execution_count": null,
      "outputs": [
        {
          "output_type": "stream",
          "name": "stdout",
          "text": [
            "0.weight Parameter containing:\n",
            "tensor([[-1.4843e-01,  5.3948e-02, -3.4343e-01, -2.3441e+00, -1.5887e-01,\n",
            "         -7.3630e-02,  1.6024e-01, -1.5530e-01, -1.8222e-01,  1.0436e-01,\n",
            "         -1.3827e-01,  8.2396e-02,  5.0658e-02, -2.0022e-01,  1.5857e-01,\n",
            "          9.5437e-02, -1.6041e-03, -2.9887e-02,  1.5140e-01,  1.3605e-02,\n",
            "         -6.1947e-03, -1.3258e-02, -2.8770e-01, -3.5716e+00, -5.4047e-02,\n",
            "         -4.5895e-02,  2.2609e-02,  9.7999e-02,  4.1491e-02,  7.6202e-02]],\n",
            "       requires_grad=True)\n",
            "0.bias Parameter containing:\n",
            "tensor([-0.1176], requires_grad=True)\n"
          ]
        }
      ]
    },
    {
      "cell_type": "code",
      "source": [],
      "metadata": {
        "id": "JCu2HsGPC-G2"
      },
      "execution_count": null,
      "outputs": []
    },
    {
      "cell_type": "code",
      "source": [
        "# visualize the loss during each epoch\n",
        "import matplotlib.pyplot as plt\n",
        "plt.plot(losses)\n",
        "plt.ylabel('loss')\n",
        "plt.xlabel('epoch')\n",
        "plt.title(\"Learning rate %f\"%(learning_rate))\n",
        "plt.show()"
      ],
      "metadata": {
        "id": "HFb2gGqzQg-C",
        "outputId": "720ea03e-41ae-4747-f450-415b33e5b379",
        "colab": {
          "base_uri": "https://localhost:8080/",
          "height": 295
        }
      },
      "execution_count": null,
      "outputs": [
        {
          "output_type": "display_data",
          "data": {
            "text/plain": [
              "<Figure size 432x288 with 1 Axes>"
            ],
            "image/png": "[encoded data removed]"
          },
          "metadata": {
            "needs_background": "light"
          }
        }
      ]
    },
    {
      "cell_type": "code",
      "source": [],
      "metadata": {
        "id": "T7yAw9U_w6jQ"
      },
      "execution_count": null,
      "outputs": []
    },
    {
      "cell_type": "markdown",
      "source": [
        "# validate model"
      ],
      "metadata": {
        "id": "QaOP2nqQw7ZR"
      }
    },
    {
      "cell_type": "code",
      "source": [
        "X_val, y_val = X_test[500:,:], y_test[500:, :]\n"
      ],
      "metadata": {
        "id": "_rN48kZLw8_z"
      },
      "execution_count": null,
      "outputs": []
    },
    {
      "cell_type": "code",
      "source": [
        "y_pred =model(X_val)"
      ],
      "metadata": {
        "id": "XVnS2j8qxfZW"
      },
      "execution_count": null,
      "outputs": []
    },
    {
      "cell_type": "code",
      "source": [
        "y_pred =y_pred.detach().numpy().reshape(-1,1)"
      ],
      "metadata": {
        "id": "iHI5imk3x39U"
      },
      "execution_count": null,
      "outputs": []
    },
    {
      "cell_type": "code",
      "source": [
        "y_pred =[0 if i<0.5 else 1 for i in y_pred]"
      ],
      "metadata": {
        "id": "Tum56R7exfc-"
      },
      "execution_count": null,
      "outputs": []
    },
    {
      "cell_type": "code",
      "source": [
        "from sklearn.metrics import accuracy_score\n",
        "\n",
        "accuracy_score(y_val, y_pred)"
      ],
      "metadata": {
        "colab": {
          "base_uri": "https://localhost:8080/"
        },
        "id": "xN2wB30unO_-",
        "outputId": "198d7b4f-fd0a-4dc0-ecd4-843289644d12"
      },
      "execution_count": null,
      "outputs": [
        {
          "output_type": "execute_result",
          "data": {
            "text/plain": [
              "0.7536231884057971"
            ]
          },
          "metadata": {},
          "execution_count": 43
        }
      ]
    },
    {
      "cell_type": "code",
      "source": [],
      "metadata": {
        "id": "X158Zh1FkRF7"
      },
      "execution_count": null,
      "outputs": []
    },
    {
      "cell_type": "code",
      "source": [],
      "metadata": {
        "id": "Z1O_vrlikRIy"
      },
      "execution_count": null,
      "outputs": []
    },
    {
      "cell_type": "code",
      "source": [],
      "metadata": {
        "id": "eR1ph1XTnPCb"
      },
      "execution_count": null,
      "outputs": []
    },
    {
      "cell_type": "code",
      "source": [],
      "metadata": {
        "id": "YjC8KGXrnPE6"
      },
      "execution_count": null,
      "outputs": []
    }
  ],
  "metadata": {
    "colab": {
      "provenance": []
    },
    "kernelspec": {
      "display_name": "Python 3",
      "name": "python3"
    },
    "accelerator": "GPU",
    "gpuClass": "standard"
  },
  "nbformat": 4,
  "nbformat_minor": 0
}